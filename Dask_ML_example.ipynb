{
 "cells": [
  {
   "cell_type": "code",
   "execution_count": 2,
   "id": "8f265b87-49e3-400c-aec3-a52bbf415e9f",
   "metadata": {
    "tags": []
   },
   "outputs": [],
   "source": [
    "#! pip install dask\n",
    "#! pip install dask-ml\n",
    "#! pip install bokeh\n",
    "#! pip install bottleneck --upgrade\n",
    "# ! pip install hvplot"
   ]
  },
  {
   "cell_type": "code",
   "execution_count": 3,
   "id": "5fa945a3-6f67-4bab-ab23-173cb47663be",
   "metadata": {
    "tags": []
   },
   "outputs": [],
   "source": [
    "import warnings\n",
    "warnings.filterwarnings('ignore')\n",
    "import dask\n",
    "import dask.dataframe as dd\n",
    "import dask.array as da\n",
    "from dask_ml.linear_model import LinearRegression\n",
    "from dask_ml.model_selection import train_test_split\n",
    "from sklearn.metrics import mean_squared_error,r2_score\n",
    "from dask.distributed import Client\n",
    "import time as time\n",
    "import numpy as np\n",
    "import pandas as pd\n",
    "import seaborn as sns\n",
    "import matplotlib.pyplot as plt\n",
    "%matplotlib inline\n",
    "\n",
    "from dask.distributed import Client, progress\n",
    "client = Client()"
   ]
  },
  {
   "cell_type": "markdown",
   "id": "d08a0f1b-e3ac-45a2-b71d-03d222671f1f",
   "metadata": {},
   "source": [
    "## Check number of workers and cores running in your machine"
   ]
  },
  {
   "cell_type": "code",
   "execution_count": 4,
   "id": "95dd2941-270d-474a-9cf5-702957adfbe4",
   "metadata": {
    "tags": []
   },
   "outputs": [
    {
     "name": "stdout",
     "output_type": "stream",
     "text": [
      "<Client: 'tcp://127.0.0.1:59100' processes=4 threads=16, memory=16.00 GiB>\n"
     ]
    }
   ],
   "source": [
    "print(client)"
   ]
  },
  {
   "cell_type": "code",
   "execution_count": 6,
   "id": "295e0c5b-783b-45be-ae6f-325f32c9d512",
   "metadata": {
    "tags": []
   },
   "outputs": [
    {
     "data": {
      "text/plain": [
       "16"
      ]
     },
     "execution_count": 6,
     "metadata": {},
     "output_type": "execute_result"
    }
   ],
   "source": [
    "sum(worker['nthreads'] for worker in client.scheduler_info()['workers'].values())"
   ]
  },
  {
   "cell_type": "markdown",
   "id": "1f98ea53-ad4e-4f0f-9662-40fb0155ba19",
   "metadata": {
    "tags": []
   },
   "source": [
    "### Read data using DASK"
   ]
  },
  {
   "cell_type": "code",
   "execution_count": 7,
   "id": "0e26e655-54fc-4479-8dcb-b09876f76721",
   "metadata": {
    "tags": []
   },
   "outputs": [
    {
     "name": "stdout",
     "output_type": "stream",
     "text": [
      "CPU times: user 149 ms, sys: 44.3 ms, total: 193 ms\n",
      "Wall time: 2.44 s\n"
     ]
    },
    {
     "data": {
      "text/html": [
       "<div>\n",
       "<style scoped>\n",
       "    .dataframe tbody tr th:only-of-type {\n",
       "        vertical-align: middle;\n",
       "    }\n",
       "\n",
       "    .dataframe tbody tr th {\n",
       "        vertical-align: top;\n",
       "    }\n",
       "\n",
       "    .dataframe thead th {\n",
       "        text-align: right;\n",
       "    }\n",
       "</style>\n",
       "<table border=\"1\" class=\"dataframe\">\n",
       "  <thead>\n",
       "    <tr style=\"text-align: right;\">\n",
       "      <th></th>\n",
       "      <th>Unnamed: 0</th>\n",
       "      <th>key</th>\n",
       "      <th>fare_amount</th>\n",
       "      <th>pickup_datetime</th>\n",
       "      <th>pickup_longitude</th>\n",
       "      <th>pickup_latitude</th>\n",
       "      <th>dropoff_longitude</th>\n",
       "      <th>dropoff_latitude</th>\n",
       "      <th>passenger_count</th>\n",
       "    </tr>\n",
       "  </thead>\n",
       "  <tbody>\n",
       "    <tr>\n",
       "      <th>0</th>\n",
       "      <td>0</td>\n",
       "      <td>2009-06-15 17:26:21.0000001</td>\n",
       "      <td>4.5</td>\n",
       "      <td>2009-06-15 17:26:21 UTC</td>\n",
       "      <td>-73.844311</td>\n",
       "      <td>40.721319</td>\n",
       "      <td>-73.841610</td>\n",
       "      <td>40.712278</td>\n",
       "      <td>1</td>\n",
       "    </tr>\n",
       "    <tr>\n",
       "      <th>1</th>\n",
       "      <td>1</td>\n",
       "      <td>2010-01-05 16:52:16.0000002</td>\n",
       "      <td>16.9</td>\n",
       "      <td>2010-01-05 16:52:16 UTC</td>\n",
       "      <td>-74.016048</td>\n",
       "      <td>40.711303</td>\n",
       "      <td>-73.979268</td>\n",
       "      <td>40.782004</td>\n",
       "      <td>1</td>\n",
       "    </tr>\n",
       "    <tr>\n",
       "      <th>2</th>\n",
       "      <td>2</td>\n",
       "      <td>2011-08-18 00:35:00.00000049</td>\n",
       "      <td>5.7</td>\n",
       "      <td>2011-08-18 00:35:00 UTC</td>\n",
       "      <td>-73.982738</td>\n",
       "      <td>40.761270</td>\n",
       "      <td>-73.991242</td>\n",
       "      <td>40.750562</td>\n",
       "      <td>2</td>\n",
       "    </tr>\n",
       "    <tr>\n",
       "      <th>3</th>\n",
       "      <td>3</td>\n",
       "      <td>2012-04-21 04:30:42.0000001</td>\n",
       "      <td>7.7</td>\n",
       "      <td>2012-04-21 04:30:42 UTC</td>\n",
       "      <td>-73.987130</td>\n",
       "      <td>40.733143</td>\n",
       "      <td>-73.991567</td>\n",
       "      <td>40.758092</td>\n",
       "      <td>1</td>\n",
       "    </tr>\n",
       "    <tr>\n",
       "      <th>4</th>\n",
       "      <td>4</td>\n",
       "      <td>2010-03-09 07:51:00.000000135</td>\n",
       "      <td>5.3</td>\n",
       "      <td>2010-03-09 07:51:00 UTC</td>\n",
       "      <td>-73.968095</td>\n",
       "      <td>40.768008</td>\n",
       "      <td>-73.956655</td>\n",
       "      <td>40.783762</td>\n",
       "      <td>1</td>\n",
       "    </tr>\n",
       "  </tbody>\n",
       "</table>\n",
       "</div>"
      ],
      "text/plain": [
       "   Unnamed: 0                            key  fare_amount  \\\n",
       "0           0    2009-06-15 17:26:21.0000001          4.5   \n",
       "1           1    2010-01-05 16:52:16.0000002         16.9   \n",
       "2           2   2011-08-18 00:35:00.00000049          5.7   \n",
       "3           3    2012-04-21 04:30:42.0000001          7.7   \n",
       "4           4  2010-03-09 07:51:00.000000135          5.3   \n",
       "\n",
       "           pickup_datetime  pickup_longitude  pickup_latitude  \\\n",
       "0  2009-06-15 17:26:21 UTC        -73.844311        40.721319   \n",
       "1  2010-01-05 16:52:16 UTC        -74.016048        40.711303   \n",
       "2  2011-08-18 00:35:00 UTC        -73.982738        40.761270   \n",
       "3  2012-04-21 04:30:42 UTC        -73.987130        40.733143   \n",
       "4  2010-03-09 07:51:00 UTC        -73.968095        40.768008   \n",
       "\n",
       "   dropoff_longitude  dropoff_latitude  passenger_count  \n",
       "0         -73.841610         40.712278                1  \n",
       "1         -73.979268         40.782004                1  \n",
       "2         -73.991242         40.750562                2  \n",
       "3         -73.991567         40.758092                1  \n",
       "4         -73.956655         40.783762                1  "
      ]
     },
     "execution_count": 7,
     "metadata": {},
     "output_type": "execute_result"
    }
   ],
   "source": [
    "%%time\n",
    "ddf = dd.read_csv('data/Dask_MP_dataset.csv',dtype={'passenger_count': 'int64'})\n",
    "ddf.head()"
   ]
  },
  {
   "cell_type": "code",
   "execution_count": 8,
   "id": "0d6d038b-c4c2-4b4b-af42-0b3a1a4f3a6c",
   "metadata": {
    "tags": []
   },
   "outputs": [
    {
     "data": {
      "text/html": [
       "<div>\n",
       "<style scoped>\n",
       "    .dataframe tbody tr th:only-of-type {\n",
       "        vertical-align: middle;\n",
       "    }\n",
       "\n",
       "    .dataframe tbody tr th {\n",
       "        vertical-align: top;\n",
       "    }\n",
       "\n",
       "    .dataframe thead th {\n",
       "        text-align: right;\n",
       "    }\n",
       "</style>\n",
       "<table border=\"1\" class=\"dataframe\">\n",
       "  <thead>\n",
       "    <tr style=\"text-align: right;\">\n",
       "      <th></th>\n",
       "      <th>Unnamed: 0</th>\n",
       "      <th>key</th>\n",
       "      <th>fare_amount</th>\n",
       "      <th>pickup_datetime</th>\n",
       "      <th>pickup_longitude</th>\n",
       "      <th>pickup_latitude</th>\n",
       "      <th>dropoff_longitude</th>\n",
       "      <th>dropoff_latitude</th>\n",
       "      <th>passenger_count</th>\n",
       "    </tr>\n",
       "  </thead>\n",
       "  <tbody>\n",
       "    <tr>\n",
       "      <th>0</th>\n",
       "      <td>0</td>\n",
       "      <td>2009-06-15 17:26:21.0000001</td>\n",
       "      <td>4.5</td>\n",
       "      <td>2009-06-15 17:26:21 UTC</td>\n",
       "      <td>-73.844311</td>\n",
       "      <td>40.721319</td>\n",
       "      <td>-73.841610</td>\n",
       "      <td>40.712278</td>\n",
       "      <td>1</td>\n",
       "    </tr>\n",
       "    <tr>\n",
       "      <th>1</th>\n",
       "      <td>1</td>\n",
       "      <td>2010-01-05 16:52:16.0000002</td>\n",
       "      <td>16.9</td>\n",
       "      <td>2010-01-05 16:52:16 UTC</td>\n",
       "      <td>-74.016048</td>\n",
       "      <td>40.711303</td>\n",
       "      <td>-73.979268</td>\n",
       "      <td>40.782004</td>\n",
       "      <td>1</td>\n",
       "    </tr>\n",
       "    <tr>\n",
       "      <th>2</th>\n",
       "      <td>2</td>\n",
       "      <td>2011-08-18 00:35:00.00000049</td>\n",
       "      <td>5.7</td>\n",
       "      <td>2011-08-18 00:35:00 UTC</td>\n",
       "      <td>-73.982738</td>\n",
       "      <td>40.761270</td>\n",
       "      <td>-73.991242</td>\n",
       "      <td>40.750562</td>\n",
       "      <td>2</td>\n",
       "    </tr>\n",
       "    <tr>\n",
       "      <th>3</th>\n",
       "      <td>3</td>\n",
       "      <td>2012-04-21 04:30:42.0000001</td>\n",
       "      <td>7.7</td>\n",
       "      <td>2012-04-21 04:30:42 UTC</td>\n",
       "      <td>-73.987130</td>\n",
       "      <td>40.733143</td>\n",
       "      <td>-73.991567</td>\n",
       "      <td>40.758092</td>\n",
       "      <td>1</td>\n",
       "    </tr>\n",
       "    <tr>\n",
       "      <th>4</th>\n",
       "      <td>4</td>\n",
       "      <td>2010-03-09 07:51:00.000000135</td>\n",
       "      <td>5.3</td>\n",
       "      <td>2010-03-09 07:51:00 UTC</td>\n",
       "      <td>-73.968095</td>\n",
       "      <td>40.768008</td>\n",
       "      <td>-73.956655</td>\n",
       "      <td>40.783762</td>\n",
       "      <td>1</td>\n",
       "    </tr>\n",
       "  </tbody>\n",
       "</table>\n",
       "</div>"
      ],
      "text/plain": [
       "   Unnamed: 0                            key  fare_amount  \\\n",
       "0           0    2009-06-15 17:26:21.0000001          4.5   \n",
       "1           1    2010-01-05 16:52:16.0000002         16.9   \n",
       "2           2   2011-08-18 00:35:00.00000049          5.7   \n",
       "3           3    2012-04-21 04:30:42.0000001          7.7   \n",
       "4           4  2010-03-09 07:51:00.000000135          5.3   \n",
       "\n",
       "           pickup_datetime  pickup_longitude  pickup_latitude  \\\n",
       "0  2009-06-15 17:26:21 UTC        -73.844311        40.721319   \n",
       "1  2010-01-05 16:52:16 UTC        -74.016048        40.711303   \n",
       "2  2011-08-18 00:35:00 UTC        -73.982738        40.761270   \n",
       "3  2012-04-21 04:30:42 UTC        -73.987130        40.733143   \n",
       "4  2010-03-09 07:51:00 UTC        -73.968095        40.768008   \n",
       "\n",
       "   dropoff_longitude  dropoff_latitude  passenger_count  \n",
       "0         -73.841610         40.712278                1  \n",
       "1         -73.979268         40.782004                1  \n",
       "2         -73.991242         40.750562                2  \n",
       "3         -73.991567         40.758092                1  \n",
       "4         -73.956655         40.783762                1  "
      ]
     },
     "metadata": {},
     "output_type": "display_data"
    }
   ],
   "source": [
    "from IPython.display import display\n",
    "display(ddf.head())"
   ]
  },
  {
   "cell_type": "code",
   "execution_count": 9,
   "id": "fb87c63b-ca64-438a-9ff6-f10678a95ed7",
   "metadata": {
    "tags": []
   },
   "outputs": [
    {
     "name": "stdout",
     "output_type": "stream",
     "text": [
      "3\n"
     ]
    }
   ],
   "source": [
    "print(ddf.npartitions)"
   ]
  },
  {
   "cell_type": "code",
   "execution_count": 10,
   "id": "e977373d-f3d1-4914-97e7-a82b37dd2490",
   "metadata": {
    "tags": []
   },
   "outputs": [
    {
     "name": "stdout",
     "output_type": "stream",
     "text": [
      "Unnamed: 0                     int64\n",
      "key                  string[pyarrow]\n",
      "fare_amount                  float64\n",
      "pickup_datetime      string[pyarrow]\n",
      "pickup_longitude             float64\n",
      "pickup_latitude              float64\n",
      "dropoff_longitude            float64\n",
      "dropoff_latitude             float64\n",
      "passenger_count                int64\n",
      "dtype: object\n"
     ]
    }
   ],
   "source": [
    "print(ddf.dtypes)"
   ]
  },
  {
   "cell_type": "code",
   "execution_count": 11,
   "id": "edd0020b-7a64-496d-a526-76ed82b4006d",
   "metadata": {
    "tags": []
   },
   "outputs": [
    {
     "data": {
      "text/plain": [
       "(2000000, 9)"
      ]
     },
     "execution_count": 11,
     "metadata": {},
     "output_type": "execute_result"
    }
   ],
   "source": [
    "ddf.compute().shape"
   ]
  },
  {
   "cell_type": "code",
   "execution_count": 12,
   "id": "d0af76fa-ec0c-4994-b4e4-eb6fa7469f4b",
   "metadata": {
    "tags": []
   },
   "outputs": [
    {
     "name": "stdout",
     "output_type": "stream",
     "text": [
      "3\n"
     ]
    }
   ],
   "source": [
    "# Dask DataFrame is split up into many pandas DataFrames. We sometimes call these “partitions”, and often the number of partitions is decided for you. \n",
    "print(ddf.npartitions)"
   ]
  },
  {
   "cell_type": "markdown",
   "id": "f7ab832c-4c2f-464e-b870-57206a657527",
   "metadata": {},
   "source": [
    "### Read data using Pandas for comparison"
   ]
  },
  {
   "cell_type": "code",
   "execution_count": 14,
   "id": "d2d63eac-def9-4f17-a1ad-51cf9e8e67f8",
   "metadata": {
    "tags": []
   },
   "outputs": [
    {
     "name": "stdout",
     "output_type": "stream",
     "text": [
      "CPU times: user 3.48 s, sys: 476 ms, total: 3.96 s\n",
      "Wall time: 3.84 s\n"
     ]
    },
    {
     "data": {
      "text/html": [
       "<div>\n",
       "<style scoped>\n",
       "    .dataframe tbody tr th:only-of-type {\n",
       "        vertical-align: middle;\n",
       "    }\n",
       "\n",
       "    .dataframe tbody tr th {\n",
       "        vertical-align: top;\n",
       "    }\n",
       "\n",
       "    .dataframe thead th {\n",
       "        text-align: right;\n",
       "    }\n",
       "</style>\n",
       "<table border=\"1\" class=\"dataframe\">\n",
       "  <thead>\n",
       "    <tr style=\"text-align: right;\">\n",
       "      <th></th>\n",
       "      <th>Unnamed: 0</th>\n",
       "      <th>key</th>\n",
       "      <th>fare_amount</th>\n",
       "      <th>pickup_datetime</th>\n",
       "      <th>pickup_longitude</th>\n",
       "      <th>pickup_latitude</th>\n",
       "      <th>dropoff_longitude</th>\n",
       "      <th>dropoff_latitude</th>\n",
       "      <th>passenger_count</th>\n",
       "    </tr>\n",
       "  </thead>\n",
       "  <tbody>\n",
       "    <tr>\n",
       "      <th>0</th>\n",
       "      <td>0</td>\n",
       "      <td>2009-06-15 17:26:21.0000001</td>\n",
       "      <td>4.5</td>\n",
       "      <td>2009-06-15 17:26:21 UTC</td>\n",
       "      <td>-73.844311</td>\n",
       "      <td>40.721319</td>\n",
       "      <td>-73.841610</td>\n",
       "      <td>40.712278</td>\n",
       "      <td>1</td>\n",
       "    </tr>\n",
       "    <tr>\n",
       "      <th>1</th>\n",
       "      <td>1</td>\n",
       "      <td>2010-01-05 16:52:16.0000002</td>\n",
       "      <td>16.9</td>\n",
       "      <td>2010-01-05 16:52:16 UTC</td>\n",
       "      <td>-74.016048</td>\n",
       "      <td>40.711303</td>\n",
       "      <td>-73.979268</td>\n",
       "      <td>40.782004</td>\n",
       "      <td>1</td>\n",
       "    </tr>\n",
       "    <tr>\n",
       "      <th>2</th>\n",
       "      <td>2</td>\n",
       "      <td>2011-08-18 00:35:00.00000049</td>\n",
       "      <td>5.7</td>\n",
       "      <td>2011-08-18 00:35:00 UTC</td>\n",
       "      <td>-73.982738</td>\n",
       "      <td>40.761270</td>\n",
       "      <td>-73.991242</td>\n",
       "      <td>40.750562</td>\n",
       "      <td>2</td>\n",
       "    </tr>\n",
       "    <tr>\n",
       "      <th>3</th>\n",
       "      <td>3</td>\n",
       "      <td>2012-04-21 04:30:42.0000001</td>\n",
       "      <td>7.7</td>\n",
       "      <td>2012-04-21 04:30:42 UTC</td>\n",
       "      <td>-73.987130</td>\n",
       "      <td>40.733143</td>\n",
       "      <td>-73.991567</td>\n",
       "      <td>40.758092</td>\n",
       "      <td>1</td>\n",
       "    </tr>\n",
       "    <tr>\n",
       "      <th>4</th>\n",
       "      <td>4</td>\n",
       "      <td>2010-03-09 07:51:00.000000135</td>\n",
       "      <td>5.3</td>\n",
       "      <td>2010-03-09 07:51:00 UTC</td>\n",
       "      <td>-73.968095</td>\n",
       "      <td>40.768008</td>\n",
       "      <td>-73.956655</td>\n",
       "      <td>40.783762</td>\n",
       "      <td>1</td>\n",
       "    </tr>\n",
       "  </tbody>\n",
       "</table>\n",
       "</div>"
      ],
      "text/plain": [
       "   Unnamed: 0                            key  fare_amount  \\\n",
       "0           0    2009-06-15 17:26:21.0000001          4.5   \n",
       "1           1    2010-01-05 16:52:16.0000002         16.9   \n",
       "2           2   2011-08-18 00:35:00.00000049          5.7   \n",
       "3           3    2012-04-21 04:30:42.0000001          7.7   \n",
       "4           4  2010-03-09 07:51:00.000000135          5.3   \n",
       "\n",
       "           pickup_datetime  pickup_longitude  pickup_latitude  \\\n",
       "0  2009-06-15 17:26:21 UTC        -73.844311        40.721319   \n",
       "1  2010-01-05 16:52:16 UTC        -74.016048        40.711303   \n",
       "2  2011-08-18 00:35:00 UTC        -73.982738        40.761270   \n",
       "3  2012-04-21 04:30:42 UTC        -73.987130        40.733143   \n",
       "4  2010-03-09 07:51:00 UTC        -73.968095        40.768008   \n",
       "\n",
       "   dropoff_longitude  dropoff_latitude  passenger_count  \n",
       "0         -73.841610         40.712278                1  \n",
       "1         -73.979268         40.782004                1  \n",
       "2         -73.991242         40.750562                2  \n",
       "3         -73.991567         40.758092                1  \n",
       "4         -73.956655         40.783762                1  "
      ]
     },
     "execution_count": 14,
     "metadata": {},
     "output_type": "execute_result"
    }
   ],
   "source": [
    "%%time\n",
    "df_pd = pd.read_csv('data/Dask_MP_dataset.csv')\n",
    "df_pd.head()"
   ]
  },
  {
   "cell_type": "markdown",
   "id": "fcb78f41-4606-42fd-b703-77860df1dabb",
   "metadata": {},
   "source": [
    "## Data cleaning"
   ]
  },
  {
   "cell_type": "code",
   "execution_count": 15,
   "id": "813b899d-9f0b-4c3a-8d73-6a4d06a97f02",
   "metadata": {
    "tags": []
   },
   "outputs": [],
   "source": [
    "# Drop columns\n",
    "columns_to_drop = ['Unnamed: 0', 'key']  # List of columns to drop\n",
    "ddf = ddf.drop(columns_to_drop,axis=1)"
   ]
  },
  {
   "cell_type": "code",
   "execution_count": 16,
   "id": "186f064c-01e0-4b1c-b07b-10ec2f48bdc8",
   "metadata": {
    "tags": []
   },
   "outputs": [],
   "source": [
    "# Drop duplicate rows\n",
    "ddf = ddf.drop_duplicates()\n",
    "#print(ddf.compute().shape)"
   ]
  },
  {
   "cell_type": "code",
   "execution_count": 17,
   "id": "e746cbb2-9dbe-452e-90e0-d9eaceb3cba5",
   "metadata": {
    "tags": []
   },
   "outputs": [
    {
     "name": "stdout",
     "output_type": "stream",
     "text": [
      "3\n"
     ]
    }
   ],
   "source": [
    "# check number of partitions \n",
    "print(ddf.npartitions)"
   ]
  },
  {
   "cell_type": "code",
   "execution_count": 18,
   "id": "cc951529-2d1f-4b12-afa0-1c077955a33f",
   "metadata": {
    "tags": []
   },
   "outputs": [
    {
     "name": "stderr",
     "output_type": "stream",
     "text": [
      "2024-06-07 17:05:24,759 - distributed.shuffle._scheduler_plugin - WARNING - Shuffle 5abd2df9548c82023a91bf21666b259c initialized by task ('shuffle-transfer-5abd2df9548c82023a91bf21666b259c', 1) executed on worker tcp://127.0.0.1:59114\n",
      "2024-06-07 17:05:25,954 - distributed.shuffle._scheduler_plugin - WARNING - Shuffle 5abd2df9548c82023a91bf21666b259c deactivated due to stimulus 'task-finished-1717760125.952493'\n"
     ]
    },
    {
     "name": "stdout",
     "output_type": "stream",
     "text": [
      "(1999983, 7)\n"
     ]
    }
   ],
   "source": [
    "# drop NA rows\n",
    "ddf = ddf.dropna()\n",
    "print(ddf.compute().shape)"
   ]
  },
  {
   "cell_type": "code",
   "execution_count": 19,
   "id": "54eaf8ce-096e-4593-8a29-163fb9000d2e",
   "metadata": {
    "tags": []
   },
   "outputs": [
    {
     "name": "stderr",
     "output_type": "stream",
     "text": [
      "2024-06-07 17:05:30,549 - distributed.shuffle._scheduler_plugin - WARNING - Shuffle 5abd2df9548c82023a91bf21666b259c initialized by task ('shuffle-transfer-5abd2df9548c82023a91bf21666b259c', 1) executed on worker tcp://127.0.0.1:59114\n",
      "2024-06-07 17:05:31,659 - distributed.shuffle._scheduler_plugin - WARNING - Shuffle 5abd2df9548c82023a91bf21666b259c deactivated due to stimulus 'task-finished-1717760131.658349'\n"
     ]
    },
    {
     "name": "stdout",
     "output_type": "stream",
     "text": [
      "(1953959, 7)\n"
     ]
    }
   ],
   "source": [
    "# Define the bounding box for New York City\n",
    "lat_min, lat_max = 40.5, 40.9\n",
    "lon_min, lon_max = -74.25, -73.75\n",
    "\n",
    "# Filter the DataFrame for pickup and dropoff points within the bounding box\n",
    "ddf = ddf[(ddf['pickup_latitude'].between(lat_min, lat_max)) &\n",
    "          (ddf['pickup_longitude'].between(lon_min, lon_max)) &\n",
    "          (ddf['dropoff_latitude'].between(lat_min, lat_max)) &\n",
    "          (ddf['dropoff_longitude'].between(lon_min, lon_max))]\n",
    "print(ddf.compute().shape)"
   ]
  },
  {
   "cell_type": "markdown",
   "id": "85f417b1-c9a5-4ea4-833b-62a5466d538f",
   "metadata": {
    "tags": []
   },
   "source": [
    "## Feature engineering"
   ]
  },
  {
   "cell_type": "code",
   "execution_count": 20,
   "id": "45faa8a8-40e9-4a2f-8c91-8ff15fa75e9c",
   "metadata": {
    "tags": []
   },
   "outputs": [
    {
     "name": "stderr",
     "output_type": "stream",
     "text": [
      "2024-06-07 17:05:36,523 - distributed.shuffle._scheduler_plugin - WARNING - Shuffle 5abd2df9548c82023a91bf21666b259c initialized by task ('shuffle-transfer-5abd2df9548c82023a91bf21666b259c', 1) executed on worker tcp://127.0.0.1:59111\n",
      "2024-06-07 17:05:37,327 - distributed.shuffle._scheduler_plugin - WARNING - Shuffle 5abd2df9548c82023a91bf21666b259c deactivated due to stimulus 'task-finished-1717760137.3256729'\n"
     ]
    },
    {
     "name": "stdout",
     "output_type": "stream",
     "text": [
      "    fare_amount           pickup_datetime  pickup_longitude  pickup_latitude  \\\n",
      "2           5.7 2011-08-18 00:35:00+00:00        -73.982738        40.761270   \n",
      "3           7.7 2012-04-21 04:30:42+00:00        -73.987130        40.733143   \n",
      "6           7.5 2012-11-20 20:35:00+00:00        -73.980002        40.751662   \n",
      "10          5.3 2012-04-08 07:30:50+00:00        -73.996335        40.737142   \n",
      "13          7.0 2013-07-02 19:54:00+00:00        -74.005360        40.728867   \n",
      "\n",
      "    dropoff_longitude  dropoff_latitude  passenger_count  day_of_week  hour  \\\n",
      "2          -73.991242         40.750562                2            3     0   \n",
      "3          -73.991567         40.758092                1            5     4   \n",
      "6          -73.973802         40.764842                1            1    20   \n",
      "10         -73.980721         40.733559                1            6     7   \n",
      "13         -74.008913         40.710907                1            1    19   \n",
      "\n",
      "    month  year  \n",
      "2       8  2011  \n",
      "3       4  2012  \n",
      "6      11  2012  \n",
      "10      4  2012  \n",
      "13      7  2013  \n"
     ]
    }
   ],
   "source": [
    "# Extract day of the week, hour, month and year from pickup_datetime\n",
    "ddf['pickup_datetime'] = ddf['pickup_datetime'].map_partitions(pd.to_datetime, meta=('pickup_datetime', 'datetime64[ns]'))\n",
    "\n",
    "# Extract day of the week, hour, month, and year from 'pickup_datetime'\n",
    "ddf['day_of_week'] = ddf['pickup_datetime'].map_partitions(lambda s: s.dt.dayofweek, meta=('day_of_week', 'int64'))\n",
    "ddf['hour'] = ddf['pickup_datetime'].map_partitions(lambda s: s.dt.hour, meta=('hour', 'int64'))\n",
    "ddf['month'] = ddf['pickup_datetime'].map_partitions(lambda s: s.dt.month, meta=('month', 'int64'))\n",
    "ddf['year'] = ddf['pickup_datetime'].map_partitions(lambda s: s.dt.year, meta=('year', 'int64'))\n",
    "\n",
    "# execute the operations and view results\n",
    "result = ddf.compute()\n",
    "print(result.head())"
   ]
  },
  {
   "cell_type": "code",
   "execution_count": 21,
   "id": "9149743f-a89c-47d6-8bd2-cca744c59adf",
   "metadata": {
    "tags": []
   },
   "outputs": [],
   "source": [
    "# check datatypes now\n",
    "#ddf.dtypes"
   ]
  },
  {
   "cell_type": "code",
   "execution_count": 22,
   "id": "6a83b006-99c6-42ad-a0ac-b4283af43f4d",
   "metadata": {
    "tags": []
   },
   "outputs": [],
   "source": [
    "# Convert degrees to radians for latitude and longitude\n",
    "ddf['pickup_latitude_radians'] = np.radians(ddf['pickup_latitude'])\n",
    "ddf['pickup_longitude_radians'] = np.radians(ddf['pickup_longitude'])\n",
    "ddf['dropoff_latitude_radians'] = np.radians(ddf['dropoff_latitude'])\n",
    "ddf['dropoff_longitude_radians'] = np.radians(ddf['dropoff_longitude'])"
   ]
  },
  {
   "cell_type": "code",
   "execution_count": 23,
   "id": "1321afb1-d1f5-4d1e-afbf-51c24dabb7c6",
   "metadata": {
    "tags": []
   },
   "outputs": [],
   "source": [
    "#print(ddf.head())"
   ]
  },
  {
   "cell_type": "code",
   "execution_count": 24,
   "id": "3f3f4ebb-6347-4819-acbb-5f6af10e521e",
   "metadata": {
    "tags": []
   },
   "outputs": [],
   "source": [
    "## function to calculate haversine distance (shortest distance between two points on a sphere using their latitudes and longitudes)\n",
    "def haversine_distance(row):\n",
    "    lat1, lon1, lat2, lon2 = row['pickup_latitude_radians'], row['pickup_longitude_radians'], row['dropoff_latitude_radians'], row['dropoff_longitude_radians']\n",
    "    dlon = lon2 - lon1\n",
    "    dlat = lat2 - lat1\n",
    "    a = np.sin(dlat/2)**2 + np.cos(lat1) * np.cos(lat2) * np.sin(dlon/2)**2\n",
    "    c = 2 * np.arcsin(np.sqrt(a))\n",
    "    distance = 6371 * c  # Radius of Earth in kilometers. Use 3956 for miles\n",
    "    return distance"
   ]
  },
  {
   "cell_type": "code",
   "execution_count": 25,
   "id": "8cc30828-298a-44bf-b286-19554173d1b3",
   "metadata": {
    "tags": []
   },
   "outputs": [],
   "source": [
    "# add the haversine distance to the dataframe\n",
    "ddf['distance'] = ddf.map_partitions(lambda df: df.apply(haversine_distance, axis=1), meta=('distance', float))"
   ]
  },
  {
   "cell_type": "code",
   "execution_count": 26,
   "id": "aec5d470-d130-47e5-83db-ce7641924265",
   "metadata": {
    "tags": []
   },
   "outputs": [
    {
     "name": "stderr",
     "output_type": "stream",
     "text": [
      "2024-06-07 17:05:49,218 - distributed.shuffle._scheduler_plugin - WARNING - Shuffle 61a355a720b043efdc953f239c83d943 initialized by task ('shuffle-transfer-61a355a720b043efdc953f239c83d943', 1) executed on worker tcp://127.0.0.1:59112\n",
      "2024-06-07 17:05:49,779 - distributed.shuffle._scheduler_plugin - WARNING - Shuffle 61a355a720b043efdc953f239c83d943 deactivated due to stimulus 'task-finished-1717760149.778246'\n"
     ]
    },
    {
     "name": "stdout",
     "output_type": "stream",
     "text": [
      "    fare_amount           pickup_datetime  pickup_longitude  pickup_latitude  \\\n",
      "2           5.7 2011-08-18 00:35:00+00:00        -73.982738        40.761270   \n",
      "3           7.7 2012-04-21 04:30:42+00:00        -73.987130        40.733143   \n",
      "6           7.5 2012-11-20 20:35:00+00:00        -73.980002        40.751662   \n",
      "10          5.3 2012-04-08 07:30:50+00:00        -73.996335        40.737142   \n",
      "13          7.0 2013-07-02 19:54:00+00:00        -74.005360        40.728867   \n",
      "\n",
      "    dropoff_longitude  dropoff_latitude  passenger_count  day_of_week  hour  \\\n",
      "2          -73.991242         40.750562                2            3     0   \n",
      "3          -73.991567         40.758092                1            5     4   \n",
      "6          -73.973802         40.764842                1            1    20   \n",
      "10         -73.980721         40.733559                1            6     7   \n",
      "13         -74.008913         40.710907                1            1    19   \n",
      "\n",
      "    month  year  pickup_latitude_radians  pickup_longitude_radians  \\\n",
      "2       8  2011                 0.711418                 -1.291242   \n",
      "3       4  2012                 0.710927                 -1.291319   \n",
      "6      11  2012                 0.711251                 -1.291195   \n",
      "10      4  2012                 0.710997                 -1.291480   \n",
      "13      7  2013                 0.710853                 -1.291637   \n",
      "\n",
      "    dropoff_latitude_radians  dropoff_longitude_radians  distance  \n",
      "2                   0.711231                  -1.291391  1.389525  \n",
      "3                   0.711363                  -1.291396  2.799270  \n",
      "6                   0.711481                  -1.291086  1.555807  \n",
      "10                  0.710935                  -1.291207  1.374577  \n",
      "13                  0.710539                  -1.291699  2.019384  \n"
     ]
    }
   ],
   "source": [
    "print(ddf.head())"
   ]
  },
  {
   "cell_type": "markdown",
   "id": "dacc3683-3608-4d1a-9914-871060b13ad0",
   "metadata": {},
   "source": [
    "## Data exploration"
   ]
  },
  {
   "cell_type": "code",
   "execution_count": 27,
   "id": "a5df5fdd-a531-43bf-9544-b64492cd46c4",
   "metadata": {
    "tags": []
   },
   "outputs": [
    {
     "name": "stderr",
     "output_type": "stream",
     "text": [
      "2024-06-07 17:06:12,376 - distributed.shuffle._scheduler_plugin - WARNING - Shuffle 5abd2df9548c82023a91bf21666b259c initialized by task ('shuffle-transfer-5abd2df9548c82023a91bf21666b259c', 0) executed on worker tcp://127.0.0.1:59114\n",
      "2024-06-07 17:06:13,541 - distributed.shuffle._scheduler_plugin - WARNING - Shuffle 5abd2df9548c82023a91bf21666b259c deactivated due to stimulus 'task-finished-1717760173.539713'\n"
     ]
    },
    {
     "data": {
      "image/png": "[encoded data removed]",
      "text/plain": [
       "<Figure size 1000x600 with 1 Axes>"
      ]
     },
     "metadata": {},
     "output_type": "display_data"
    }
   ],
   "source": [
    "# Compute the result (this step might take time depending on your dataset size)\n",
    "distance_data = ddf['distance'].compute()\n",
    "\n",
    "# Plotting\n",
    "plt.figure(figsize=(10, 6))\n",
    "sns.histplot(distance_data, kde=True, bins=30)\n",
    "plt.title('Distribution of Trip Distances')\n",
    "plt.xlabel('Distance (km)')\n",
    "plt.ylabel('Frequency')\n",
    "plt.show()"
   ]
  },
  {
   "cell_type": "code",
   "execution_count": 28,
   "id": "ea2de3a7-2e05-4f91-96d7-39464455ceef",
   "metadata": {
    "tags": []
   },
   "outputs": [],
   "source": [
    "#sns.boxplot(distance_data)"
   ]
  },
  {
   "cell_type": "code",
   "execution_count": 29,
   "id": "b1595451-6284-4725-9534-4dcd26c8827c",
   "metadata": {
    "tags": []
   },
   "outputs": [
    {
     "name": "stderr",
     "output_type": "stream",
     "text": [
      "2024-06-07 17:06:45,936 - distributed.shuffle._scheduler_plugin - WARNING - Shuffle 5abd2df9548c82023a91bf21666b259c initialized by task ('shuffle-transfer-5abd2df9548c82023a91bf21666b259c', 1) executed on worker tcp://127.0.0.1:59113\n",
      "2024-06-07 17:06:46,789 - distributed.shuffle._scheduler_plugin - WARNING - Shuffle 5abd2df9548c82023a91bf21666b259c deactivated due to stimulus 'task-finished-1717760206.788342'\n"
     ]
    },
    {
     "data": {
      "text/plain": [
       "count    1.953959e+06\n",
       "mean     3.297195e+00\n",
       "std      3.531603e+00\n",
       "min      0.000000e+00\n",
       "25%      1.254347e+00\n",
       "50%      2.153299e+00\n",
       "75%      3.908369e+00\n",
       "max      4.564376e+01\n",
       "Name: distance, dtype: float64"
      ]
     },
     "execution_count": 29,
     "metadata": {},
     "output_type": "execute_result"
    }
   ],
   "source": [
    "ddf['distance'].describe().compute()"
   ]
  },
  {
   "cell_type": "code",
   "execution_count": 30,
   "id": "4f93dcf5-6fd7-409e-bb5f-d6a864532268",
   "metadata": {
    "tags": []
   },
   "outputs": [
    {
     "name": "stderr",
     "output_type": "stream",
     "text": [
      "2024-06-07 17:07:11,782 - distributed.shuffle._scheduler_plugin - WARNING - Shuffle 5abd2df9548c82023a91bf21666b259c initialized by task ('shuffle-transfer-5abd2df9548c82023a91bf21666b259c', 1) executed on worker tcp://127.0.0.1:59112\n",
      "2024-06-07 17:07:12,627 - distributed.shuffle._scheduler_plugin - WARNING - Shuffle 5abd2df9548c82023a91bf21666b259c deactivated due to stimulus 'task-finished-1717760232.624616'\n"
     ]
    },
    {
     "data": {
      "text/plain": [
       "distance\n",
       "0.000000     20133\n",
       "0.000084         1\n",
       "0.000084         1\n",
       "0.000084         1\n",
       "0.000084         1\n",
       "             ...  \n",
       "37.406180        1\n",
       "38.326108        1\n",
       "40.673014        1\n",
       "43.235403        1\n",
       "45.643764        1\n",
       "Name: distance, Length: 1933589, dtype: int64"
      ]
     },
     "execution_count": 30,
     "metadata": {},
     "output_type": "execute_result"
    }
   ],
   "source": [
    "ddf.groupby(\"distance\").distance.count().compute()"
   ]
  },
  {
   "cell_type": "code",
   "execution_count": 31,
   "id": "fff6ba39-60c2-4c7e-9dc1-9725c1094b20",
   "metadata": {
    "tags": []
   },
   "outputs": [
    {
     "name": "stderr",
     "output_type": "stream",
     "text": [
      "2024-06-07 17:07:37,291 - distributed.shuffle._scheduler_plugin - WARNING - Shuffle 5abd2df9548c82023a91bf21666b259c initialized by task ('shuffle-transfer-5abd2df9548c82023a91bf21666b259c', 0) executed on worker tcp://127.0.0.1:59113\n",
      "2024-06-07 17:07:38,023 - distributed.shuffle._scheduler_plugin - WARNING - Shuffle 5abd2df9548c82023a91bf21666b259c deactivated due to stimulus 'task-finished-1717760258.021781'\n"
     ]
    },
    {
     "data": {
      "image/png": "[encoded data removed]",
      "text/plain": [
       "<Figure size 1000x600 with 1 Axes>"
      ]
     },
     "metadata": {},
     "output_type": "display_data"
    }
   ],
   "source": [
    "# Visualize the target - fare_amount\n",
    "fare_amount_data = ddf['fare_amount'].compute()\n",
    "\n",
    "# Plotting\n",
    "plt.figure(figsize=(10, 6))\n",
    "sns.histplot(fare_amount_data, kde=True, bins=30)\n",
    "plt.title('Distribution of fare amount')\n",
    "plt.xlabel('Fare amount')\n",
    "plt.ylabel('Frequency')\n",
    "plt.show()"
   ]
  },
  {
   "cell_type": "code",
   "execution_count": 32,
   "id": "b6656d56-8a9e-44e7-b10f-57a990ea4824",
   "metadata": {
    "tags": []
   },
   "outputs": [
    {
     "name": "stderr",
     "output_type": "stream",
     "text": [
      "2024-06-07 17:07:45,565 - distributed.shuffle._scheduler_plugin - WARNING - Shuffle 5abd2df9548c82023a91bf21666b259c initialized by task ('shuffle-transfer-5abd2df9548c82023a91bf21666b259c', 1) executed on worker tcp://127.0.0.1:59112\n",
      "2024-06-07 17:07:46,388 - distributed.shuffle._scheduler_plugin - WARNING - Shuffle 5abd2df9548c82023a91bf21666b259c deactivated due to stimulus 'task-finished-1717760266.3866298'\n"
     ]
    },
    {
     "data": {
      "text/plain": [
       "count    1.953959e+06\n",
       "mean     1.126915e+01\n",
       "std      9.444330e+00\n",
       "min     -6.200000e+01\n",
       "25%      6.000000e+00\n",
       "50%      8.500000e+00\n",
       "75%      1.250000e+01\n",
       "max      5.000000e+02\n",
       "Name: fare_amount, dtype: float64"
      ]
     },
     "execution_count": 32,
     "metadata": {},
     "output_type": "execute_result"
    }
   ],
   "source": [
    "ddf['fare_amount'].describe().compute()"
   ]
  },
  {
   "cell_type": "code",
   "execution_count": 33,
   "id": "9712e4b1-2489-4630-a99e-d208f0de74f6",
   "metadata": {
    "tags": []
   },
   "outputs": [
    {
     "name": "stderr",
     "output_type": "stream",
     "text": [
      "2024-06-07 17:07:49,525 - distributed.shuffle._scheduler_plugin - WARNING - Shuffle 5abd2df9548c82023a91bf21666b259c initialized by task ('shuffle-transfer-5abd2df9548c82023a91bf21666b259c', 1) executed on worker tcp://127.0.0.1:59111\n",
      "2024-06-07 17:07:50,319 - distributed.shuffle._scheduler_plugin - WARNING - Shuffle 5abd2df9548c82023a91bf21666b259c deactivated due to stimulus 'task-finished-1717760270.3177128'\n"
     ]
    },
    {
     "data": {
      "text/plain": [
       "fare_amount\n",
       "-52.00     1\n",
       "-18.10     1\n",
       "-10.10     1\n",
       "-6.50      4\n",
       "-6.00      1\n",
       "          ..\n",
       " 161.75    1\n",
       " 180.33    1\n",
       " 190.00    1\n",
       " 255.00    1\n",
       " 430.00    1\n",
       "Name: fare_amount, Length: 2480, dtype: int64"
      ]
     },
     "execution_count": 33,
     "metadata": {},
     "output_type": "execute_result"
    }
   ],
   "source": [
    "ddf.groupby(\"fare_amount\").fare_amount.count().compute()"
   ]
  },
  {
   "cell_type": "code",
   "execution_count": 34,
   "id": "73cd09a5-0b37-4d95-92b6-79e7111d0ce3",
   "metadata": {
    "tags": []
   },
   "outputs": [],
   "source": [
    "#  Visualize it for a range of [0, 60]. \n",
    "filtered_ddf = ddf[ddf['fare_amount'].between(0, 60)]"
   ]
  },
  {
   "cell_type": "code",
   "execution_count": 35,
   "id": "2fea7c4c-5672-4076-ad14-98d4978fb606",
   "metadata": {},
   "outputs": [
    {
     "name": "stderr",
     "output_type": "stream",
     "text": [
      "2024-06-07 17:07:53,929 - distributed.shuffle._scheduler_plugin - WARNING - Shuffle 5abd2df9548c82023a91bf21666b259c initialized by task ('shuffle-transfer-5abd2df9548c82023a91bf21666b259c', 1) executed on worker tcp://127.0.0.1:59112\n",
      "2024-06-07 17:07:54,850 - distributed.shuffle._scheduler_plugin - WARNING - Shuffle 5abd2df9548c82023a91bf21666b259c deactivated due to stimulus 'task-finished-1717760274.8492548'\n"
     ]
    },
    {
     "data": {
      "image/png": "[encoded data removed]",
      "text/plain": [
       "<Figure size 1000x600 with 1 Axes>"
      ]
     },
     "metadata": {},
     "output_type": "display_data"
    }
   ],
   "source": [
    "fare_amount_data = filtered_ddf['fare_amount'].compute()\n",
    "\n",
    "# Plotting\n",
    "plt.figure(figsize=(10, 6))\n",
    "sns.histplot(fare_amount_data, kde=True, bins=30)\n",
    "plt.title('Distribution of fare amount')\n",
    "plt.xlabel('Fare amount')\n",
    "plt.ylabel('Frequency')\n",
    "plt.show()"
   ]
  },
  {
   "cell_type": "markdown",
   "id": "772f65b4-7887-4c2b-80b0-ef277cf809a0",
   "metadata": {
    "tags": []
   },
   "source": [
    "## Bi-variates"
   ]
  },
  {
   "cell_type": "code",
   "execution_count": 36,
   "id": "7ae27925-1e5a-486f-b5d9-c2405a836208",
   "metadata": {
    "tags": []
   },
   "outputs": [
    {
     "name": "stderr",
     "output_type": "stream",
     "text": [
      "2024-06-07 17:08:04,474 - distributed.shuffle._scheduler_plugin - WARNING - Shuffle 5abd2df9548c82023a91bf21666b259c initialized by task ('shuffle-transfer-5abd2df9548c82023a91bf21666b259c', 2) executed on worker tcp://127.0.0.1:59111\n",
      "2024-06-07 17:08:05,315 - distributed.shuffle._scheduler_plugin - WARNING - Shuffle 5abd2df9548c82023a91bf21666b259c deactivated due to stimulus 'task-finished-1717760285.3136709'\n"
     ]
    },
    {
     "data": {
      "image/png": "[encoded data removed]",
      "text/plain": [
       "<Figure size 500x500 with 1 Axes>"
      ]
     },
     "metadata": {},
     "output_type": "display_data"
    }
   ],
   "source": [
    "# Plot the taxi trips by hour of the day\n",
    "hourly_trip_counts = ddf.groupby('hour').size().compute()\n",
    "hourly_trip_counts_df = hourly_trip_counts.reset_index()\n",
    "hourly_trip_counts_df.columns = ['hour', 'count']\n",
    "sns.catplot(x='hour', y='count', kind= 'bar',data=hourly_trip_counts_df,color= '#abc9ea')\n",
    "plt.show()"
   ]
  },
  {
   "cell_type": "code",
   "execution_count": 37,
   "id": "7672e612-6c42-4066-91c6-f37d4de98443",
   "metadata": {
    "tags": []
   },
   "outputs": [
    {
     "name": "stderr",
     "output_type": "stream",
     "text": [
      "2024-06-07 17:08:15,710 - distributed.shuffle._scheduler_plugin - WARNING - Shuffle 5abd2df9548c82023a91bf21666b259c initialized by task ('shuffle-transfer-5abd2df9548c82023a91bf21666b259c', 2) executed on worker tcp://127.0.0.1:59111\n",
      "2024-06-07 17:08:16,681 - distributed.shuffle._scheduler_plugin - WARNING - Shuffle 5abd2df9548c82023a91bf21666b259c deactivated due to stimulus 'task-finished-1717760296.678986'\n"
     ]
    },
    {
     "data": {
      "image/png": "[encoded data removed]",
      "text/plain": [
       "<Figure size 640x480 with 1 Axes>"
      ]
     },
     "metadata": {},
     "output_type": "display_data"
    }
   ],
   "source": [
    "# Plot the taxi trips by day of the week\n",
    "day_of_week_trip_counts = ddf.groupby('day_of_week').size().compute()\n",
    "day_of_week_trip_counts_df = day_of_week_trip_counts.reset_index()\n",
    "day_of_week_trip_counts_df.columns = ['day_of_week', 'count']\n",
    "sns.barplot(x='day_of_week', y='count', data=day_of_week_trip_counts_df,color= '#abc9ea')\n",
    "plt.show()"
   ]
  },
  {
   "cell_type": "code",
   "execution_count": 38,
   "id": "76ccb25b-d2c7-4055-8b1d-e2a78664db35",
   "metadata": {
    "tags": []
   },
   "outputs": [
    {
     "name": "stderr",
     "output_type": "stream",
     "text": [
      "2024-06-07 17:08:26,909 - distributed.shuffle._scheduler_plugin - WARNING - Shuffle 5abd2df9548c82023a91bf21666b259c initialized by task ('shuffle-transfer-5abd2df9548c82023a91bf21666b259c', 2) executed on worker tcp://127.0.0.1:59111\n",
      "2024-06-07 17:08:27,719 - distributed.shuffle._scheduler_plugin - WARNING - Shuffle 5abd2df9548c82023a91bf21666b259c deactivated due to stimulus 'task-finished-1717760307.717707'\n"
     ]
    },
    {
     "data": {
      "image/png": "[encoded data removed]",
      "text/plain": [
       "<Figure size 640x480 with 1 Axes>"
      ]
     },
     "metadata": {},
     "output_type": "display_data"
    }
   ],
   "source": [
    "# plot average fare_amount by hour\n",
    "fare_by_hour = ddf.groupby('hour')['fare_amount'].mean().compute()\n",
    "fare_by_hour_df = fare_by_hour.reset_index()\n",
    "fare_by_hour_df.columns = ['hour', 'avg_fare_amount']\n",
    "sns.barplot(x='hour', y='avg_fare_amount', data=fare_by_hour_df,color= '#abc9ea')\n",
    "plt.show()"
   ]
  },
  {
   "cell_type": "code",
   "execution_count": 39,
   "id": "fedfa9fd-b894-4812-a82f-4391163a25b2",
   "metadata": {
    "tags": []
   },
   "outputs": [
    {
     "name": "stderr",
     "output_type": "stream",
     "text": [
      "2024-06-07 17:08:39,387 - distributed.shuffle._scheduler_plugin - WARNING - Shuffle 5abd2df9548c82023a91bf21666b259c initialized by task ('shuffle-transfer-5abd2df9548c82023a91bf21666b259c', 1) executed on worker tcp://127.0.0.1:59114\n",
      "2024-06-07 17:08:40,360 - distributed.shuffle._scheduler_plugin - WARNING - Shuffle 5abd2df9548c82023a91bf21666b259c deactivated due to stimulus 'task-finished-1717760320.3586922'\n"
     ]
    },
    {
     "data": {
      "image/png": "[encoded data removed]",
      "text/plain": [
       "<Figure size 640x480 with 1 Axes>"
      ]
     },
     "metadata": {},
     "output_type": "display_data"
    }
   ],
   "source": [
    "# plot average distance by hour\n",
    "dist_by_hour = ddf.groupby('hour')['distance'].mean().compute()\n",
    "dist_by_hour_df = dist_by_hour.reset_index()\n",
    "dist_by_hour_df.columns = ['hour', 'avg_distance']\n",
    "sns.barplot(x='hour', y='avg_distance', data=dist_by_hour_df,color= '#abc9ea')\n",
    "plt.show()"
   ]
  },
  {
   "cell_type": "code",
   "execution_count": 40,
   "id": "efa36597-f02c-40eb-982a-ecb47d019d33",
   "metadata": {
    "tags": []
   },
   "outputs": [
    {
     "name": "stderr",
     "output_type": "stream",
     "text": [
      "2024-06-07 17:09:03,902 - distributed.shuffle._scheduler_plugin - WARNING - Shuffle 5abd2df9548c82023a91bf21666b259c initialized by task ('shuffle-transfer-5abd2df9548c82023a91bf21666b259c', 1) executed on worker tcp://127.0.0.1:59111\n",
      "2024-06-07 17:09:04,789 - distributed.shuffle._scheduler_plugin - WARNING - Shuffle 5abd2df9548c82023a91bf21666b259c deactivated due to stimulus 'task-finished-1717760344.788295'\n"
     ]
    },
    {
     "data": {
      "image/png": "[encoded data removed]",
      "text/plain": [
       "<Figure size 640x480 with 1 Axes>"
      ]
     },
     "metadata": {},
     "output_type": "display_data"
    }
   ],
   "source": [
    "# plot average fare_amount by day of week\n",
    "fare_by_dow = ddf.groupby('day_of_week')['fare_amount'].mean().compute()\n",
    "fare_by_dow_df = fare_by_dow.reset_index()\n",
    "fare_by_dow_df.columns = ['dow', 'avg_fare_amount']\n",
    "sns.barplot(x='dow', y='avg_fare_amount', data=fare_by_dow_df,color= '#abc9ea')\n",
    "plt.show()"
   ]
  },
  {
   "cell_type": "code",
   "execution_count": 41,
   "id": "3fe967e2-82f9-474f-9bbb-c7941f3ecb6c",
   "metadata": {},
   "outputs": [
    {
     "name": "stderr",
     "output_type": "stream",
     "text": [
      "2024-06-07 17:09:16,841 - distributed.shuffle._scheduler_plugin - WARNING - Shuffle 5abd2df9548c82023a91bf21666b259c initialized by task ('shuffle-transfer-5abd2df9548c82023a91bf21666b259c', 2) executed on worker tcp://127.0.0.1:59111\n",
      "2024-06-07 17:09:17,647 - distributed.shuffle._scheduler_plugin - WARNING - Shuffle 5abd2df9548c82023a91bf21666b259c deactivated due to stimulus 'task-finished-1717760357.645849'\n"
     ]
    }
   ],
   "source": [
    "# create a subset of the Dask DataFrame\n",
    "df_sample = ddf.sample(frac=0.1).compute()"
   ]
  },
  {
   "cell_type": "code",
   "execution_count": 44,
   "id": "e7736159-074f-460b-8c03-29ae7def3ef0",
   "metadata": {
    "tags": []
   },
   "outputs": [
    {
     "data": {
      "image/png": "[encoded data removed]",
      "text/plain": [
       "<Figure size 1000x600 with 1 Axes>"
      ]
     },
     "metadata": {},
     "output_type": "display_data"
    }
   ],
   "source": [
    "# Create the scatter plot between fare amount and distance\n",
    "plt.figure(figsize=(10, 6))\n",
    "plt.scatter(df_sample['fare_amount'], df_sample['distance'], alpha=0.5)\n",
    "plt.xlabel('fare_amount')\n",
    "plt.ylabel('distance')\n",
    "plt.title(f'Scatter Plot of fare_amount vs distance')\n",
    "plt.show()"
   ]
  },
  {
   "cell_type": "code",
   "execution_count": 45,
   "id": "5c91a8e6-cb7c-4993-bac2-7beb0e4bf0b0",
   "metadata": {
    "tags": []
   },
   "outputs": [
    {
     "name": "stderr",
     "output_type": "stream",
     "text": [
      "2024-06-07 17:12:22,954 - distributed.shuffle._scheduler_plugin - WARNING - Shuffle 5abd2df9548c82023a91bf21666b259c initialized by task ('shuffle-transfer-5abd2df9548c82023a91bf21666b259c', 1) executed on worker tcp://127.0.0.1:59112\n",
      "2024-06-07 17:12:23,798 - distributed.shuffle._scheduler_plugin - WARNING - Shuffle 5abd2df9548c82023a91bf21666b259c deactivated due to stimulus 'task-finished-1717760543.796725'\n"
     ]
    },
    {
     "data": {
      "text/plain": [
       "(1929460, 16)"
      ]
     },
     "execution_count": 45,
     "metadata": {},
     "output_type": "execute_result"
    }
   ],
   "source": [
    "# Clean the data by removing outliers\n",
    "ddf_model = ddf[(ddf['fare_amount'] > 0) & (ddf['fare_amount'] < 60) & (ddf['distance'] > 0)]\n",
    "\n",
    "ddf_model.compute().shape"
   ]
  },
  {
   "cell_type": "markdown",
   "id": "c438caa6-12f8-4753-b4f3-361dfa7381f9",
   "metadata": {},
   "source": [
    "## Check correlation between fare amount and distance"
   ]
  },
  {
   "cell_type": "code",
   "execution_count": 46,
   "id": "9fbff1f0-c1a2-4880-a131-a35404b36e58",
   "metadata": {
    "tags": []
   },
   "outputs": [
    {
     "name": "stderr",
     "output_type": "stream",
     "text": [
      "2024-06-07 17:12:49,248 - distributed.shuffle._scheduler_plugin - WARNING - Shuffle 5abd2df9548c82023a91bf21666b259c initialized by task ('shuffle-transfer-5abd2df9548c82023a91bf21666b259c', 1) executed on worker tcp://127.0.0.1:59113\n",
      "2024-06-07 17:12:50,050 - distributed.shuffle._scheduler_plugin - WARNING - Shuffle 5abd2df9548c82023a91bf21666b259c deactivated due to stimulus 'task-finished-1717760570.048876'\n"
     ]
    },
    {
     "name": "stdout",
     "output_type": "stream",
     "text": [
      "             fare_amount  distance\n",
      "fare_amount     1.000000  0.895444\n",
      "distance        0.895444  1.000000\n"
     ]
    }
   ],
   "source": [
    "# Calculate the correlation coefficient\n",
    "correlation = ddf_model[['fare_amount', 'distance']].corr().compute()\n",
    "# Print the entire correlation matrix\n",
    "print(correlation)"
   ]
  },
  {
   "cell_type": "markdown",
   "id": "09450579-7551-41de-a49c-9cecc4359d5c",
   "metadata": {},
   "source": [
    "## Build a prediction model for fare amount"
   ]
  },
  {
   "cell_type": "code",
   "execution_count": 47,
   "id": "0c9c35fa-42e4-4ac8-8175-7de0a8e4c825",
   "metadata": {},
   "outputs": [],
   "source": [
    "# Define the target variable\n",
    "y = ddf_model['fare_amount']\n",
    "\n",
    "# Define predictor\n",
    "X = ddf_model[['distance']]"
   ]
  },
  {
   "cell_type": "code",
   "execution_count": 48,
   "id": "c214c6bd-52b8-489c-8a9c-e70d5fbe4471",
   "metadata": {},
   "outputs": [],
   "source": [
    "# split the dataset into train and test\n",
    "X_train, X_test, y_train, y_test = train_test_split(X, y, test_size=0.3, random_state=42)"
   ]
  },
  {
   "cell_type": "code",
   "execution_count": 49,
   "id": "43e09987-833a-468c-840b-048b44a1aa66",
   "metadata": {},
   "outputs": [
    {
     "name": "stderr",
     "output_type": "stream",
     "text": [
      "2024-06-07 17:13:14,312 - distributed.shuffle._scheduler_plugin - WARNING - Shuffle 5abd2df9548c82023a91bf21666b259c initialized by task ('shuffle-transfer-5abd2df9548c82023a91bf21666b259c', 1) executed on worker tcp://127.0.0.1:59113\n",
      "2024-06-07 17:13:15,306 - distributed.shuffle._scheduler_plugin - WARNING - Shuffle 5abd2df9548c82023a91bf21666b259c deactivated due to stimulus 'task-finished-1717760595.304818'\n",
      "2024-06-07 17:13:39,480 - distributed.shuffle._scheduler_plugin - WARNING - Shuffle 5abd2df9548c82023a91bf21666b259c initialized by task ('shuffle-transfer-5abd2df9548c82023a91bf21666b259c', 1) executed on worker tcp://127.0.0.1:59114\n",
      "2024-06-07 17:13:40,421 - distributed.shuffle._scheduler_plugin - WARNING - Shuffle 5abd2df9548c82023a91bf21666b259c deactivated due to stimulus 'task-finished-1717760620.420108'\n",
      "2024-06-07 17:14:04,598 - distributed.shuffle._scheduler_plugin - WARNING - Shuffle 5abd2df9548c82023a91bf21666b259c initialized by task ('shuffle-transfer-5abd2df9548c82023a91bf21666b259c', 2) executed on worker tcp://127.0.0.1:59113\n",
      "2024-06-07 17:14:05,418 - distributed.shuffle._scheduler_plugin - WARNING - Shuffle 5abd2df9548c82023a91bf21666b259c deactivated due to stimulus 'task-finished-1717760645.417228'\n",
      "2024-06-07 17:14:29,397 - distributed.shuffle._scheduler_plugin - WARNING - Shuffle 5abd2df9548c82023a91bf21666b259c initialized by task ('shuffle-transfer-5abd2df9548c82023a91bf21666b259c', 2) executed on worker tcp://127.0.0.1:59114\n",
      "2024-06-07 17:14:30,268 - distributed.shuffle._scheduler_plugin - WARNING - Shuffle 5abd2df9548c82023a91bf21666b259c deactivated due to stimulus 'task-finished-1717760670.266669'\n"
     ]
    }
   ],
   "source": [
    "# Compute the train and test sets\n",
    "X_train, X_test = X_train.compute(), X_test.compute()\n",
    "y_train, y_test = y_train.compute(), y_test.compute()"
   ]
  },
  {
   "cell_type": "code",
   "execution_count": 50,
   "id": "ccd75031-4f54-4242-889f-bbb50a8d1e8f",
   "metadata": {},
   "outputs": [],
   "source": [
    "# Convert to arrays as dask's .fit() function takes array as attribute\n",
    "X_train, X_test = X_train.values, X_test.values\n",
    "y_train, y_test = y_train.values, y_test.values"
   ]
  },
  {
   "cell_type": "code",
   "execution_count": 51,
   "id": "84e396a3-5118-4b44-afeb-255cc8817b2b",
   "metadata": {},
   "outputs": [
    {
     "data": {
      "text/html": [
       "<style>#sk-container-id-1 {color: black;background-color: white;}#sk-container-id-1 pre{padding: 0;}#sk-container-id-1 div.sk-toggleable {background-color: white;}#sk-container-id-1 label.sk-toggleable__label {cursor: pointer;display: block;width: 100%;margin-bottom: 0;padding: 0.3em;box-sizing: border-box;text-align: center;}#sk-container-id-1 label.sk-toggleable__label-arrow:before {content: \"▸\";float: left;margin-right: 0.25em;color: #696969;}#sk-container-id-1 label.sk-toggleable__label-arrow:hover:before {color: black;}#sk-container-id-1 div.sk-estimator:hover label.sk-toggleable__label-arrow:before {color: black;}#sk-container-id-1 div.sk-toggleable__content {max-height: 0;max-width: 0;overflow: hidden;text-align: left;background-color: #f0f8ff;}#sk-container-id-1 div.sk-toggleable__content pre {margin: 0.2em;color: black;border-radius: 0.25em;background-color: #f0f8ff;}#sk-container-id-1 input.sk-toggleable__control:checked~div.sk-toggleable__content {max-height: 200px;max-width: 100%;overflow: auto;}#sk-container-id-1 input.sk-toggleable__control:checked~label.sk-toggleable__label-arrow:before {content: \"▾\";}#sk-container-id-1 div.sk-estimator input.sk-toggleable__control:checked~label.sk-toggleable__label {background-color: #d4ebff;}#sk-container-id-1 div.sk-label input.sk-toggleable__control:checked~label.sk-toggleable__label {background-color: #d4ebff;}#sk-container-id-1 input.sk-hidden--visually {border: 0;clip: rect(1px 1px 1px 1px);clip: rect(1px, 1px, 1px, 1px);height: 1px;margin: -1px;overflow: hidden;padding: 0;position: absolute;width: 1px;}#sk-container-id-1 div.sk-estimator {font-family: monospace;background-color: #f0f8ff;border: 1px dotted black;border-radius: 0.25em;box-sizing: border-box;margin-bottom: 0.5em;}#sk-container-id-1 div.sk-estimator:hover {background-color: #d4ebff;}#sk-container-id-1 div.sk-parallel-item::after {content: \"\";width: 100%;border-bottom: 1px solid gray;flex-grow: 1;}#sk-container-id-1 div.sk-label:hover label.sk-toggleable__label {background-color: #d4ebff;}#sk-container-id-1 div.sk-serial::before {content: \"\";position: absolute;border-left: 1px solid gray;box-sizing: border-box;top: 0;bottom: 0;left: 50%;z-index: 0;}#sk-container-id-1 div.sk-serial {display: flex;flex-direction: column;align-items: center;background-color: white;padding-right: 0.2em;padding-left: 0.2em;position: relative;}#sk-container-id-1 div.sk-item {position: relative;z-index: 1;}#sk-container-id-1 div.sk-parallel {display: flex;align-items: stretch;justify-content: center;background-color: white;position: relative;}#sk-container-id-1 div.sk-item::before, #sk-container-id-1 div.sk-parallel-item::before {content: \"\";position: absolute;border-left: 1px solid gray;box-sizing: border-box;top: 0;bottom: 0;left: 50%;z-index: -1;}#sk-container-id-1 div.sk-parallel-item {display: flex;flex-direction: column;z-index: 1;position: relative;background-color: white;}#sk-container-id-1 div.sk-parallel-item:first-child::after {align-self: flex-end;width: 50%;}#sk-container-id-1 div.sk-parallel-item:last-child::after {align-self: flex-start;width: 50%;}#sk-container-id-1 div.sk-parallel-item:only-child::after {width: 0;}#sk-container-id-1 div.sk-dashed-wrapped {border: 1px dashed gray;margin: 0 0.4em 0.5em 0.4em;box-sizing: border-box;padding-bottom: 0.4em;background-color: white;}#sk-container-id-1 div.sk-label label {font-family: monospace;font-weight: bold;display: inline-block;line-height: 1.2em;}#sk-container-id-1 div.sk-label-container {text-align: center;}#sk-container-id-1 div.sk-container {/* jupyter's `normalize.less` sets `[hidden] { display: none; }` but bootstrap.min.css set `[hidden] { display: none !important; }` so we also need the `!important` here to be able to override the default hidden behavior on the sphinx rendered scikit-learn.org. See: https://github.com/scikit-learn/scikit-learn/issues/21755 */display: inline-block !important;position: relative;}#sk-container-id-1 div.sk-text-repr-fallback {display: none;}</style><div id=\"sk-container-id-1\" class=\"sk-top-container\"><div class=\"sk-text-repr-fallback\"><pre>LinearRegression()</pre><b>In a Jupyter environment, please rerun this cell to show the HTML representation or trust the notebook. <br />On GitHub, the HTML representation is unable to render, please try loading this page with nbviewer.org.</b></div><div class=\"sk-container\" hidden><div class=\"sk-item\"><div class=\"sk-estimator sk-toggleable\"><input class=\"sk-toggleable__control sk-hidden--visually\" id=\"sk-estimator-id-1\" type=\"checkbox\" checked><label for=\"sk-estimator-id-1\" class=\"sk-toggleable__label sk-toggleable__label-arrow\">LinearRegression</label><div class=\"sk-toggleable__content\"><pre>LinearRegression()</pre></div></div></div></div></div>"
      ],
      "text/plain": [
       "LinearRegression()"
      ]
     },
     "execution_count": 51,
     "metadata": {},
     "output_type": "execute_result"
    }
   ],
   "source": [
    "# Fit the model\n",
    "model = LinearRegression()\n",
    "model.fit(X_train, y_train)"
   ]
  },
  {
   "cell_type": "code",
   "execution_count": 52,
   "id": "f135bd04-e8e6-44a2-81f6-e5af40b63727",
   "metadata": {},
   "outputs": [],
   "source": [
    "## Make predictions on test data\n",
    "y_pred = model.predict(X_test)"
   ]
  },
  {
   "cell_type": "code",
   "execution_count": 54,
   "id": "f3d289ba-51d4-4f25-9842-ac7469850d3c",
   "metadata": {
    "tags": []
   },
   "outputs": [
    {
     "name": "stdout",
     "output_type": "stream",
     "text": [
      "Mean Squared Error: 15.477273090207262\n",
      "R2 Score: 0.8017161948416611\n"
     ]
    }
   ],
   "source": [
    "# Calculate mean squared error\n",
    "mse = mean_squared_error(y_test, y_pred)\n",
    "\n",
    "# Calculate R2 score\n",
    "r2 = r2_score(y_test, y_pred)\n",
    "\n",
    "print(f\"Mean Squared Error: {mse}\")\n",
    "print(f\"R2 Score: {r2}\")"
   ]
  },
  {
   "cell_type": "code",
   "execution_count": 55,
   "id": "34ab6bda-af78-4caf-bd14-27ef2f2aa52c",
   "metadata": {
    "tags": []
   },
   "outputs": [],
   "source": [
    "# check if the model performs than a baseline prediction\n",
    "y_mean_pred = da.mean(y_test).compute()\n",
    "y_baseline_pred = da.full_like(y_test, y_mean_pred).compute()"
   ]
  },
  {
   "cell_type": "code",
   "execution_count": 56,
   "id": "18f168a0-a00e-4882-a387-96d4d25d55c0",
   "metadata": {
    "tags": []
   },
   "outputs": [
    {
     "name": "stdout",
     "output_type": "stream",
     "text": [
      "Mean Squared Error: 78.05616337576302\n",
      "R2 Score: 0.0\n"
     ]
    }
   ],
   "source": [
    "# Calculate mean squared error\n",
    "mse = mean_squared_error(y_test, y_baseline_pred)\n",
    "\n",
    "# Calculate R2 score\n",
    "r2 = r2_score(y_test, y_baseline_pred)\n",
    "\n",
    "print(f\"Mean Squared Error: {mse}\")\n",
    "print(f\"R2 Score: {r2}\")"
   ]
  }
 ],
 "metadata": {
  "kernelspec": {
   "display_name": "Python 3 (ipykernel)",
   "language": "python",
   "name": "python3"
  },
  "language_info": {
   "codemirror_mode": {
    "name": "ipython",
    "version": 3
   },
   "file_extension": ".py",
   "mimetype": "text/x-python",
   "name": "python",
   "nbconvert_exporter": "python",
   "pygments_lexer": "ipython3",
   "version": "3.11.3"
  }
 },
 "nbformat": 4,
 "nbformat_minor": 5
}
